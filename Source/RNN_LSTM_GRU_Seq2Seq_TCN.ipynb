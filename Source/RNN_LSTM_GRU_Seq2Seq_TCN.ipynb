{
  "nbformat": 4,
  "nbformat_minor": 0,
  "metadata": {
    "colab": {
      "provenance": [],
      "gpuType": "T4",
      "collapsed_sections": [
        "pMW8n4puSkFF",
        "1TKfXBfYSmO0",
        "_XztJKLuSo55",
        "7TTjWOb0S4R5"
      ]
    },
    "kernelspec": {
      "name": "python3",
      "display_name": "Python 3"
    },
    "language_info": {
      "name": "python"
    },
    "gpuClass": "standard",
    "accelerator": "GPU"
  },
  "cells": [
    {
      "cell_type": "markdown",
      "source": [
        "# Import and split data"
      ],
      "metadata": {
        "id": "24vi1W9WL3ho"
      }
    },
    {
      "cell_type": "code",
      "source": [
        "from sklearn.preprocessing import MinMaxScaler, StandardScaler\n",
        "import matplotlib.pyplot as plt\n",
        "import random\n",
        "import pandas as pd\n",
        "import numpy as np\n",
        "import datetime\n",
        "import time"
      ],
      "metadata": {
        "id": "PjLpEdZNQ2gV"
      },
      "execution_count": null,
      "outputs": []
    },
    {
      "cell_type": "code",
      "source": [
        "!gdown 1sNdTBKJilAzAfbUggmiqChKqn9-dWKqR"
      ],
      "metadata": {
        "colab": {
          "base_uri": "https://localhost:8080/"
        },
        "id": "gwtIvgp6txZD",
        "outputId": "c5e9e2b7-ae93-4f28-ee28-55d54cacc9c4"
      },
      "execution_count": null,
      "outputs": [
        {
          "output_type": "stream",
          "name": "stdout",
          "text": [
            "Downloading...\n",
            "From: https://drive.google.com/uc?id=1sNdTBKJilAzAfbUggmiqChKqn9-dWKqR\n",
            "To: /content/species1.csv\n",
            "\r  0% 0.00/492k [00:00<?, ?B/s]\r100% 492k/492k [00:00<00:00, 183MB/s]\n"
          ]
        }
      ]
    },
    {
      "cell_type": "code",
      "source": [
        "!wget https://register.fiskeridir.no/uttrekk/fangstdata_2023.csv.zip"
      ],
      "metadata": {
        "colab": {
          "base_uri": "https://localhost:8080/"
        },
        "id": "aRyMZBVjuaBi",
        "outputId": "eb13b686-e4a6-4ac3-cb46-293d44537517"
      },
      "execution_count": null,
      "outputs": [
        {
          "output_type": "stream",
          "name": "stdout",
          "text": [
            "--2023-05-24 07:13:24--  https://register.fiskeridir.no/uttrekk/fangstdata_2023.csv.zip\n",
            "Resolving register.fiskeridir.no (register.fiskeridir.no)... 195.204.55.240, 2001:8c0:7704:0:195:204:55:240\n",
            "Connecting to register.fiskeridir.no (register.fiskeridir.no)|195.204.55.240|:443... connected.\n",
            "HTTP request sent, awaiting response... 200 OK\n",
            "Length: 26096162 (25M) [application/zip]\n",
            "Saving to: ‘fangstdata_2023.csv.zip’\n",
            "\n",
            "fangstdata_2023.csv  67%[============>       ]  16.91M   377KB/s    eta 22s    ^C\n"
          ]
        }
      ]
    },
    {
      "cell_type": "code",
      "source": [
        "!unzip /content/fangstdata_2023.csv.zip"
      ],
      "metadata": {
        "colab": {
          "base_uri": "https://localhost:8080/"
        },
        "id": "zWy9lY6Vu3h9",
        "outputId": "910bd474-048b-43ae-df43-bedc289a94dc"
      },
      "execution_count": null,
      "outputs": [
        {
          "output_type": "stream",
          "name": "stdout",
          "text": [
            "Archive:  /content/fangstdata_2023.csv.zip\n",
            "  End-of-central-directory signature not found.  Either this file is not\n",
            "  a zipfile, or it constitutes one disk of a multi-part archive.  In the\n",
            "  latter case the central directory and zipfile comment will be found on\n",
            "  the last disk(s) of this archive.\n",
            "unzip:  cannot find zipfile directory in one of /content/fangstdata_2023.csv.zip or\n",
            "        /content/fangstdata_2023.csv.zip.zip, and cannot find /content/fangstdata_2023.csv.zip.ZIP, period.\n"
          ]
        }
      ]
    },
    {
      "cell_type": "code",
      "source": [
        "pd.set_option('display.max_columns', 500)\n",
        "tmp = pd.read_csv('/content/fangstdata_2023.csv',sep=';')\n",
        "tmp"
      ],
      "metadata": {
        "colab": {
          "base_uri": "https://localhost:8080/",
          "height": 345
        },
        "id": "ieoill8jvFua",
        "outputId": "b138649a-54fe-4a24-844c-fbab7965fe79"
      },
      "execution_count": null,
      "outputs": [
        {
          "output_type": "error",
          "ename": "FileNotFoundError",
          "evalue": "ignored",
          "traceback": [
            "\u001b[0;31m---------------------------------------------------------------------------\u001b[0m",
            "\u001b[0;31mFileNotFoundError\u001b[0m                         Traceback (most recent call last)",
            "\u001b[0;32m<ipython-input-5-85e68dc78d4b>\u001b[0m in \u001b[0;36m<cell line: 2>\u001b[0;34m()\u001b[0m\n\u001b[1;32m      1\u001b[0m \u001b[0mpd\u001b[0m\u001b[0;34m.\u001b[0m\u001b[0mset_option\u001b[0m\u001b[0;34m(\u001b[0m\u001b[0;34m'display.max_columns'\u001b[0m\u001b[0;34m,\u001b[0m \u001b[0;36m500\u001b[0m\u001b[0;34m)\u001b[0m\u001b[0;34m\u001b[0m\u001b[0;34m\u001b[0m\u001b[0m\n\u001b[0;32m----> 2\u001b[0;31m \u001b[0mtmp\u001b[0m \u001b[0;34m=\u001b[0m \u001b[0mpd\u001b[0m\u001b[0;34m.\u001b[0m\u001b[0mread_csv\u001b[0m\u001b[0;34m(\u001b[0m\u001b[0;34m'/content/fangstdata_2023.csv'\u001b[0m\u001b[0;34m,\u001b[0m\u001b[0msep\u001b[0m\u001b[0;34m=\u001b[0m\u001b[0;34m';'\u001b[0m\u001b[0;34m)\u001b[0m\u001b[0;34m\u001b[0m\u001b[0;34m\u001b[0m\u001b[0m\n\u001b[0m\u001b[1;32m      3\u001b[0m \u001b[0mtmp\u001b[0m\u001b[0;34m\u001b[0m\u001b[0;34m\u001b[0m\u001b[0m\n",
            "\u001b[0;32m/usr/local/lib/python3.10/dist-packages/pandas/util/_decorators.py\u001b[0m in \u001b[0;36mwrapper\u001b[0;34m(*args, **kwargs)\u001b[0m\n\u001b[1;32m    209\u001b[0m                 \u001b[0;32melse\u001b[0m\u001b[0;34m:\u001b[0m\u001b[0;34m\u001b[0m\u001b[0;34m\u001b[0m\u001b[0m\n\u001b[1;32m    210\u001b[0m                     \u001b[0mkwargs\u001b[0m\u001b[0;34m[\u001b[0m\u001b[0mnew_arg_name\u001b[0m\u001b[0;34m]\u001b[0m \u001b[0;34m=\u001b[0m \u001b[0mnew_arg_value\u001b[0m\u001b[0;34m\u001b[0m\u001b[0;34m\u001b[0m\u001b[0m\n\u001b[0;32m--> 211\u001b[0;31m             \u001b[0;32mreturn\u001b[0m \u001b[0mfunc\u001b[0m\u001b[0;34m(\u001b[0m\u001b[0;34m*\u001b[0m\u001b[0margs\u001b[0m\u001b[0;34m,\u001b[0m \u001b[0;34m**\u001b[0m\u001b[0mkwargs\u001b[0m\u001b[0;34m)\u001b[0m\u001b[0;34m\u001b[0m\u001b[0;34m\u001b[0m\u001b[0m\n\u001b[0m\u001b[1;32m    212\u001b[0m \u001b[0;34m\u001b[0m\u001b[0m\n\u001b[1;32m    213\u001b[0m         \u001b[0;32mreturn\u001b[0m \u001b[0mcast\u001b[0m\u001b[0;34m(\u001b[0m\u001b[0mF\u001b[0m\u001b[0;34m,\u001b[0m \u001b[0mwrapper\u001b[0m\u001b[0;34m)\u001b[0m\u001b[0;34m\u001b[0m\u001b[0;34m\u001b[0m\u001b[0m\n",
            "\u001b[0;32m/usr/local/lib/python3.10/dist-packages/pandas/util/_decorators.py\u001b[0m in \u001b[0;36mwrapper\u001b[0;34m(*args, **kwargs)\u001b[0m\n\u001b[1;32m    329\u001b[0m                     \u001b[0mstacklevel\u001b[0m\u001b[0;34m=\u001b[0m\u001b[0mfind_stack_level\u001b[0m\u001b[0;34m(\u001b[0m\u001b[0;34m)\u001b[0m\u001b[0;34m,\u001b[0m\u001b[0;34m\u001b[0m\u001b[0;34m\u001b[0m\u001b[0m\n\u001b[1;32m    330\u001b[0m                 )\n\u001b[0;32m--> 331\u001b[0;31m             \u001b[0;32mreturn\u001b[0m \u001b[0mfunc\u001b[0m\u001b[0;34m(\u001b[0m\u001b[0;34m*\u001b[0m\u001b[0margs\u001b[0m\u001b[0;34m,\u001b[0m \u001b[0;34m**\u001b[0m\u001b[0mkwargs\u001b[0m\u001b[0;34m)\u001b[0m\u001b[0;34m\u001b[0m\u001b[0;34m\u001b[0m\u001b[0m\n\u001b[0m\u001b[1;32m    332\u001b[0m \u001b[0;34m\u001b[0m\u001b[0m\n\u001b[1;32m    333\u001b[0m         \u001b[0;31m# error: \"Callable[[VarArg(Any), KwArg(Any)], Any]\" has no\u001b[0m\u001b[0;34m\u001b[0m\u001b[0;34m\u001b[0m\u001b[0m\n",
            "\u001b[0;32m/usr/local/lib/python3.10/dist-packages/pandas/io/parsers/readers.py\u001b[0m in \u001b[0;36mread_csv\u001b[0;34m(filepath_or_buffer, sep, delimiter, header, names, index_col, usecols, squeeze, prefix, mangle_dupe_cols, dtype, engine, converters, true_values, false_values, skipinitialspace, skiprows, skipfooter, nrows, na_values, keep_default_na, na_filter, verbose, skip_blank_lines, parse_dates, infer_datetime_format, keep_date_col, date_parser, dayfirst, cache_dates, iterator, chunksize, compression, thousands, decimal, lineterminator, quotechar, quoting, doublequote, escapechar, comment, encoding, encoding_errors, dialect, error_bad_lines, warn_bad_lines, on_bad_lines, delim_whitespace, low_memory, memory_map, float_precision, storage_options)\u001b[0m\n\u001b[1;32m    948\u001b[0m     \u001b[0mkwds\u001b[0m\u001b[0;34m.\u001b[0m\u001b[0mupdate\u001b[0m\u001b[0;34m(\u001b[0m\u001b[0mkwds_defaults\u001b[0m\u001b[0;34m)\u001b[0m\u001b[0;34m\u001b[0m\u001b[0;34m\u001b[0m\u001b[0m\n\u001b[1;32m    949\u001b[0m \u001b[0;34m\u001b[0m\u001b[0m\n\u001b[0;32m--> 950\u001b[0;31m     \u001b[0;32mreturn\u001b[0m \u001b[0m_read\u001b[0m\u001b[0;34m(\u001b[0m\u001b[0mfilepath_or_buffer\u001b[0m\u001b[0;34m,\u001b[0m \u001b[0mkwds\u001b[0m\u001b[0;34m)\u001b[0m\u001b[0;34m\u001b[0m\u001b[0;34m\u001b[0m\u001b[0m\n\u001b[0m\u001b[1;32m    951\u001b[0m \u001b[0;34m\u001b[0m\u001b[0m\n\u001b[1;32m    952\u001b[0m \u001b[0;34m\u001b[0m\u001b[0m\n",
            "\u001b[0;32m/usr/local/lib/python3.10/dist-packages/pandas/io/parsers/readers.py\u001b[0m in \u001b[0;36m_read\u001b[0;34m(filepath_or_buffer, kwds)\u001b[0m\n\u001b[1;32m    603\u001b[0m \u001b[0;34m\u001b[0m\u001b[0m\n\u001b[1;32m    604\u001b[0m     \u001b[0;31m# Create the parser.\u001b[0m\u001b[0;34m\u001b[0m\u001b[0;34m\u001b[0m\u001b[0m\n\u001b[0;32m--> 605\u001b[0;31m     \u001b[0mparser\u001b[0m \u001b[0;34m=\u001b[0m \u001b[0mTextFileReader\u001b[0m\u001b[0;34m(\u001b[0m\u001b[0mfilepath_or_buffer\u001b[0m\u001b[0;34m,\u001b[0m \u001b[0;34m**\u001b[0m\u001b[0mkwds\u001b[0m\u001b[0;34m)\u001b[0m\u001b[0;34m\u001b[0m\u001b[0;34m\u001b[0m\u001b[0m\n\u001b[0m\u001b[1;32m    606\u001b[0m \u001b[0;34m\u001b[0m\u001b[0m\n\u001b[1;32m    607\u001b[0m     \u001b[0;32mif\u001b[0m \u001b[0mchunksize\u001b[0m \u001b[0;32mor\u001b[0m \u001b[0miterator\u001b[0m\u001b[0;34m:\u001b[0m\u001b[0;34m\u001b[0m\u001b[0;34m\u001b[0m\u001b[0m\n",
            "\u001b[0;32m/usr/local/lib/python3.10/dist-packages/pandas/io/parsers/readers.py\u001b[0m in \u001b[0;36m__init__\u001b[0;34m(self, f, engine, **kwds)\u001b[0m\n\u001b[1;32m   1440\u001b[0m \u001b[0;34m\u001b[0m\u001b[0m\n\u001b[1;32m   1441\u001b[0m         \u001b[0mself\u001b[0m\u001b[0;34m.\u001b[0m\u001b[0mhandles\u001b[0m\u001b[0;34m:\u001b[0m \u001b[0mIOHandles\u001b[0m \u001b[0;34m|\u001b[0m \u001b[0;32mNone\u001b[0m \u001b[0;34m=\u001b[0m \u001b[0;32mNone\u001b[0m\u001b[0;34m\u001b[0m\u001b[0;34m\u001b[0m\u001b[0m\n\u001b[0;32m-> 1442\u001b[0;31m         \u001b[0mself\u001b[0m\u001b[0;34m.\u001b[0m\u001b[0m_engine\u001b[0m \u001b[0;34m=\u001b[0m \u001b[0mself\u001b[0m\u001b[0;34m.\u001b[0m\u001b[0m_make_engine\u001b[0m\u001b[0;34m(\u001b[0m\u001b[0mf\u001b[0m\u001b[0;34m,\u001b[0m \u001b[0mself\u001b[0m\u001b[0;34m.\u001b[0m\u001b[0mengine\u001b[0m\u001b[0;34m)\u001b[0m\u001b[0;34m\u001b[0m\u001b[0;34m\u001b[0m\u001b[0m\n\u001b[0m\u001b[1;32m   1443\u001b[0m \u001b[0;34m\u001b[0m\u001b[0m\n\u001b[1;32m   1444\u001b[0m     \u001b[0;32mdef\u001b[0m \u001b[0mclose\u001b[0m\u001b[0;34m(\u001b[0m\u001b[0mself\u001b[0m\u001b[0;34m)\u001b[0m \u001b[0;34m->\u001b[0m \u001b[0;32mNone\u001b[0m\u001b[0;34m:\u001b[0m\u001b[0;34m\u001b[0m\u001b[0;34m\u001b[0m\u001b[0m\n",
            "\u001b[0;32m/usr/local/lib/python3.10/dist-packages/pandas/io/parsers/readers.py\u001b[0m in \u001b[0;36m_make_engine\u001b[0;34m(self, f, engine)\u001b[0m\n\u001b[1;32m   1733\u001b[0m                 \u001b[0;32mif\u001b[0m \u001b[0;34m\"b\"\u001b[0m \u001b[0;32mnot\u001b[0m \u001b[0;32min\u001b[0m \u001b[0mmode\u001b[0m\u001b[0;34m:\u001b[0m\u001b[0;34m\u001b[0m\u001b[0;34m\u001b[0m\u001b[0m\n\u001b[1;32m   1734\u001b[0m                     \u001b[0mmode\u001b[0m \u001b[0;34m+=\u001b[0m \u001b[0;34m\"b\"\u001b[0m\u001b[0;34m\u001b[0m\u001b[0;34m\u001b[0m\u001b[0m\n\u001b[0;32m-> 1735\u001b[0;31m             self.handles = get_handle(\n\u001b[0m\u001b[1;32m   1736\u001b[0m                 \u001b[0mf\u001b[0m\u001b[0;34m,\u001b[0m\u001b[0;34m\u001b[0m\u001b[0;34m\u001b[0m\u001b[0m\n\u001b[1;32m   1737\u001b[0m                 \u001b[0mmode\u001b[0m\u001b[0;34m,\u001b[0m\u001b[0;34m\u001b[0m\u001b[0;34m\u001b[0m\u001b[0m\n",
            "\u001b[0;32m/usr/local/lib/python3.10/dist-packages/pandas/io/common.py\u001b[0m in \u001b[0;36mget_handle\u001b[0;34m(path_or_buf, mode, encoding, compression, memory_map, is_text, errors, storage_options)\u001b[0m\n\u001b[1;32m    854\u001b[0m         \u001b[0;32mif\u001b[0m \u001b[0mioargs\u001b[0m\u001b[0;34m.\u001b[0m\u001b[0mencoding\u001b[0m \u001b[0;32mand\u001b[0m \u001b[0;34m\"b\"\u001b[0m \u001b[0;32mnot\u001b[0m \u001b[0;32min\u001b[0m \u001b[0mioargs\u001b[0m\u001b[0;34m.\u001b[0m\u001b[0mmode\u001b[0m\u001b[0;34m:\u001b[0m\u001b[0;34m\u001b[0m\u001b[0;34m\u001b[0m\u001b[0m\n\u001b[1;32m    855\u001b[0m             \u001b[0;31m# Encoding\u001b[0m\u001b[0;34m\u001b[0m\u001b[0;34m\u001b[0m\u001b[0m\n\u001b[0;32m--> 856\u001b[0;31m             handle = open(\n\u001b[0m\u001b[1;32m    857\u001b[0m                 \u001b[0mhandle\u001b[0m\u001b[0;34m,\u001b[0m\u001b[0;34m\u001b[0m\u001b[0;34m\u001b[0m\u001b[0m\n\u001b[1;32m    858\u001b[0m                 \u001b[0mioargs\u001b[0m\u001b[0;34m.\u001b[0m\u001b[0mmode\u001b[0m\u001b[0;34m,\u001b[0m\u001b[0;34m\u001b[0m\u001b[0;34m\u001b[0m\u001b[0m\n",
            "\u001b[0;31mFileNotFoundError\u001b[0m: [Errno 2] No such file or directory: '/content/fangstdata_2023.csv'"
          ]
        }
      ]
    },
    {
      "cell_type": "code",
      "source": [
        "import pandas as pd\n",
        "import numpy as np\n",
        "df = pd.read_csv('/content/NortheastArcticHaddock.csv',parse_dates=['Last_catch_date'])\n",
        "df1 = pd.DataFrame()\n",
        "df1['Date'] = pd.date_range(start = '2000-01-01', end = '2023-05-27' )\n",
        "df1['Product_weight'] = df1['Date'].apply(lambda x: df.loc[df['Last_catch_date']==x,'Product_weight'].values[0]\n",
        "                                          if df.loc[df['Last_catch_date']==x,'Product_weight'].shape[0] == 1 else None)\n",
        "# xử lý missing\n",
        "df1['Product_weight'] = df1['Product_weight'].interpolate(method='linear')\n",
        "df1.info()"
      ],
      "metadata": {
        "colab": {
          "base_uri": "https://localhost:8080/"
        },
        "id": "iG9oKN8eQwRg",
        "outputId": "ef28ba28-9611-4fc0-a1b1-5908c9d01825"
      },
      "execution_count": null,
      "outputs": [
        {
          "output_type": "stream",
          "name": "stdout",
          "text": [
            "<class 'pandas.core.frame.DataFrame'>\n",
            "RangeIndex: 8548 entries, 0 to 8547\n",
            "Data columns (total 2 columns):\n",
            " #   Column          Non-Null Count  Dtype         \n",
            "---  ------          --------------  -----         \n",
            " 0   Date            8548 non-null   datetime64[ns]\n",
            " 1   Product_weight  8548 non-null   float64       \n",
            "dtypes: datetime64[ns](1), float64(1)\n",
            "memory usage: 133.7 KB\n"
          ]
        }
      ]
    },
    {
      "cell_type": "code",
      "source": [
        "# df2 = df1.copy()\n",
        "\n",
        "# df2['Month'] = df2['Date'].dt.month\n",
        "# df2['Year'] = df2['Date'].dt.year\n",
        "# df2\n",
        "# for i in range(2000,2024):\n",
        "#   #df2[(df2.Month==i) & (df2.Year==2000)].set_index('Date')[\"Product_weight\"].plot()\n",
        "#   plt.figure(figsize=(16,9))\n",
        "#   df2[(df2.Year==i)].set_index('Date')[\"Product_weight\"].plot()\n",
        "#   plt.show()"
      ],
      "metadata": {
        "id": "nlNLcK0-19Ur"
      },
      "execution_count": null,
      "outputs": []
    },
    {
      "cell_type": "code",
      "source": [
        "\n",
        "from pandas import read_csv\n",
        "from matplotlib import pyplot\n",
        "from statsmodels.tsa.seasonal import seasonal_decompose\n",
        "#series = read_csv('airline-passengers.csv', header=0, index_col=0)\n",
        "df2 = df1.copy()\n",
        "df2['Month'] = df2['Date'].dt.month\n",
        "df2['Year'] = df2['Date'].dt.year\n",
        "\n",
        "s = df2[(df2.Year==2020)&(df2.Month.isin([1,2,3,4,5,6]))].set_index('Date')[\"Product_weight\"]\n",
        "result = seasonal_decompose(s, model='multiplicative')\n",
        "result.plot()\n",
        "pyplot.show()"
      ],
      "metadata": {
        "colab": {
          "base_uri": "https://localhost:8080/",
          "height": 487
        },
        "id": "1_Knv0cNkTc5",
        "outputId": "162a857a-90ea-4ff9-856f-ea56534af067"
      },
      "execution_count": null,
      "outputs": [
        {
          "output_type": "display_data",
          "data": {
            "text/plain": [
              "<Figure size 640x480 with 4 Axes>"
            ],
            "image/png": "[encoded data removed]"
          },
          "metadata": {}
        }
      ]
    },
    {
      "cell_type": "code",
      "source": [
        "from sklearn.model_selection import train_test_split\n",
        "\n",
        "def split_train_val_test(df, train_size = 0.7, val_size = 0.1, test_size = 0.2):\n",
        "  train,test = train_test_split(df1,train_size=train_size,shuffle=False)\n",
        "  val,test = train_test_split(test,train_size= val_size/(1-train_size),shuffle=False)\n",
        "  return train,val, test\n",
        "\n",
        "def roll_back(df, lb = 14, hz = 14):\n",
        "  X,y = np.empty([0,lb]), np.empty([0,hz])\n",
        "  aset = df['Product_weight'].values\n",
        "  for i in range(len(aset)-lb-hz+1):\n",
        "    a = aset[i:i+lb].reshape(1,-1)\n",
        "    b = aset[i+lb:i+lb+hz].reshape(1,-1)\n",
        "    X = np.append(X,a,axis=0)\n",
        "    y = np.append(y,b,axis=0)\n",
        "  return X,y\n",
        "\n",
        "lookback = 14\n",
        "horizon = 14\n",
        "train,val,test = split_train_val_test(df1, train_size = 0.7, val_size = 0.1, test_size = 0.2)\n",
        "X_train,y_train = roll_back(train, lb = lookback, hz = horizon)\n",
        "X_val,y_val = roll_back(val, lb = lookback, hz = horizon)\n",
        "X_test,y_test = roll_back(test, lb = lookback, hz = horizon)"
      ],
      "metadata": {
        "id": "Q25vxbUsjOaP"
      },
      "execution_count": null,
      "outputs": []
    },
    {
      "cell_type": "code",
      "source": [
        "df1"
      ],
      "metadata": {
        "colab": {
          "base_uri": "https://localhost:8080/",
          "height": 423
        },
        "id": "6PjY1Dtum_vX",
        "outputId": "f8bccadc-c8de-454f-92f0-a779b1d4342c"
      },
      "execution_count": null,
      "outputs": [
        {
          "output_type": "execute_result",
          "data": {
            "text/plain": [
              "           Date  Product_weight\n",
              "0    2000-01-01    1.094000e+03\n",
              "1    2000-01-02    1.293180e+05\n",
              "2    2000-01-03    2.575420e+05\n",
              "3    2000-01-04    3.749000e+04\n",
              "4    2000-01-05    7.420800e+04\n",
              "...         ...             ...\n",
              "8507 2023-04-17    1.327499e+06\n",
              "8508 2023-04-18    2.241853e+06\n",
              "8509 2023-04-19    8.557609e+05\n",
              "8510 2023-04-20    7.548127e+05\n",
              "8511 2023-04-21    6.567023e+05\n",
              "\n",
              "[8512 rows x 2 columns]"
            ],
            "text/html": [
              "\n",
              "  <div id=\"df-e1f9b888-336f-4608-8c96-1111ca2d63d4\">\n",
              "    <div class=\"colab-df-container\">\n",
              "      <div>\n",
              "<style scoped>\n",
              "    .dataframe tbody tr th:only-of-type {\n",
              "        vertical-align: middle;\n",
              "    }\n",
              "\n",
              "    .dataframe tbody tr th {\n",
              "        vertical-align: top;\n",
              "    }\n",
              "\n",
              "    .dataframe thead th {\n",
              "        text-align: right;\n",
              "    }\n",
              "</style>\n",
              "<table border=\"1\" class=\"dataframe\">\n",
              "  <thead>\n",
              "    <tr style=\"text-align: right;\">\n",
              "      <th></th>\n",
              "      <th>Date</th>\n",
              "      <th>Product_weight</th>\n",
              "    </tr>\n",
              "  </thead>\n",
              "  <tbody>\n",
              "    <tr>\n",
              "      <th>0</th>\n",
              "      <td>2000-01-01</td>\n",
              "      <td>1.094000e+03</td>\n",
              "    </tr>\n",
              "    <tr>\n",
              "      <th>1</th>\n",
              "      <td>2000-01-02</td>\n",
              "      <td>1.293180e+05</td>\n",
              "    </tr>\n",
              "    <tr>\n",
              "      <th>2</th>\n",
              "      <td>2000-01-03</td>\n",
              "      <td>2.575420e+05</td>\n",
              "    </tr>\n",
              "    <tr>\n",
              "      <th>3</th>\n",
              "      <td>2000-01-04</td>\n",
              "      <td>3.749000e+04</td>\n",
              "    </tr>\n",
              "    <tr>\n",
              "      <th>4</th>\n",
              "      <td>2000-01-05</td>\n",
              "      <td>7.420800e+04</td>\n",
              "    </tr>\n",
              "    <tr>\n",
              "      <th>...</th>\n",
              "      <td>...</td>\n",
              "      <td>...</td>\n",
              "    </tr>\n",
              "    <tr>\n",
              "      <th>8507</th>\n",
              "      <td>2023-04-17</td>\n",
              "      <td>1.327499e+06</td>\n",
              "    </tr>\n",
              "    <tr>\n",
              "      <th>8508</th>\n",
              "      <td>2023-04-18</td>\n",
              "      <td>2.241853e+06</td>\n",
              "    </tr>\n",
              "    <tr>\n",
              "      <th>8509</th>\n",
              "      <td>2023-04-19</td>\n",
              "      <td>8.557609e+05</td>\n",
              "    </tr>\n",
              "    <tr>\n",
              "      <th>8510</th>\n",
              "      <td>2023-04-20</td>\n",
              "      <td>7.548127e+05</td>\n",
              "    </tr>\n",
              "    <tr>\n",
              "      <th>8511</th>\n",
              "      <td>2023-04-21</td>\n",
              "      <td>6.567023e+05</td>\n",
              "    </tr>\n",
              "  </tbody>\n",
              "</table>\n",
              "<p>8512 rows × 2 columns</p>\n",
              "</div>\n",
              "      <button class=\"colab-df-convert\" onclick=\"convertToInteractive('df-e1f9b888-336f-4608-8c96-1111ca2d63d4')\"\n",
              "              title=\"Convert this dataframe to an interactive table.\"\n",
              "              style=\"display:none;\">\n",
              "        \n",
              "  <svg xmlns=\"http://www.w3.org/2000/svg\" height=\"24px\"viewBox=\"0 0 24 24\"\n",
              "       width=\"24px\">\n",
              "    <path d=\"M0 0h24v24H0V0z\" fill=\"none\"/>\n",
              "    <path d=\"M18.56 5.44l.94 2.06.94-2.06 2.06-.94-2.06-.94-.94-2.06-.94 2.06-2.06.94zm-11 1L8.5 8.5l.94-2.06 2.06-.94-2.06-.94L8.5 2.5l-.94 2.06-2.06.94zm10 10l.94 2.06.94-2.06 2.06-.94-2.06-.94-.94-2.06-.94 2.06-2.06.94z\"/><path d=\"M17.41 7.96l-1.37-1.37c-.4-.4-.92-.59-1.43-.59-.52 0-1.04.2-1.43.59L10.3 9.45l-7.72 7.72c-.78.78-.78 2.05 0 2.83L4 21.41c.39.39.9.59 1.41.59.51 0 1.02-.2 1.41-.59l7.78-7.78 2.81-2.81c.8-.78.8-2.07 0-2.86zM5.41 20L4 18.59l7.72-7.72 1.47 1.35L5.41 20z\"/>\n",
              "  </svg>\n",
              "      </button>\n",
              "      \n",
              "  <style>\n",
              "    .colab-df-container {\n",
              "      display:flex;\n",
              "      flex-wrap:wrap;\n",
              "      gap: 12px;\n",
              "    }\n",
              "\n",
              "    .colab-df-convert {\n",
              "      background-color: #E8F0FE;\n",
              "      border: none;\n",
              "      border-radius: 50%;\n",
              "      cursor: pointer;\n",
              "      display: none;\n",
              "      fill: #1967D2;\n",
              "      height: 32px;\n",
              "      padding: 0 0 0 0;\n",
              "      width: 32px;\n",
              "    }\n",
              "\n",
              "    .colab-df-convert:hover {\n",
              "      background-color: #E2EBFA;\n",
              "      box-shadow: 0px 1px 2px rgba(60, 64, 67, 0.3), 0px 1px 3px 1px rgba(60, 64, 67, 0.15);\n",
              "      fill: #174EA6;\n",
              "    }\n",
              "\n",
              "    [theme=dark] .colab-df-convert {\n",
              "      background-color: #3B4455;\n",
              "      fill: #D2E3FC;\n",
              "    }\n",
              "\n",
              "    [theme=dark] .colab-df-convert:hover {\n",
              "      background-color: #434B5C;\n",
              "      box-shadow: 0px 1px 3px 1px rgba(0, 0, 0, 0.15);\n",
              "      filter: drop-shadow(0px 1px 2px rgba(0, 0, 0, 0.3));\n",
              "      fill: #FFFFFF;\n",
              "    }\n",
              "  </style>\n",
              "\n",
              "      <script>\n",
              "        const buttonEl =\n",
              "          document.querySelector('#df-e1f9b888-336f-4608-8c96-1111ca2d63d4 button.colab-df-convert');\n",
              "        buttonEl.style.display =\n",
              "          google.colab.kernel.accessAllowed ? 'block' : 'none';\n",
              "\n",
              "        async function convertToInteractive(key) {\n",
              "          const element = document.querySelector('#df-e1f9b888-336f-4608-8c96-1111ca2d63d4');\n",
              "          const dataTable =\n",
              "            await google.colab.kernel.invokeFunction('convertToInteractive',\n",
              "                                                     [key], {});\n",
              "          if (!dataTable) return;\n",
              "\n",
              "          const docLinkHtml = 'Like what you see? Visit the ' +\n",
              "            '<a target=\"_blank\" href=https://colab.research.google.com/notebooks/data_table.ipynb>data table notebook</a>'\n",
              "            + ' to learn more about interactive tables.';\n",
              "          element.innerHTML = '';\n",
              "          dataTable['output_type'] = 'display_data';\n",
              "          await google.colab.output.renderOutput(dataTable, element);\n",
              "          const docLink = document.createElement('div');\n",
              "          docLink.innerHTML = docLinkHtml;\n",
              "          element.appendChild(docLink);\n",
              "        }\n",
              "      </script>\n",
              "    </div>\n",
              "  </div>\n",
              "  "
            ]
          },
          "metadata": {},
          "execution_count": 10
        }
      ]
    },
    {
      "cell_type": "code",
      "source": [
        "X_train.shape\n",
        "y_train.shape"
      ],
      "metadata": {
        "id": "WjQP_SPMvH4_",
        "colab": {
          "base_uri": "https://localhost:8080/"
        },
        "outputId": "b65ae3a6-671e-43b1-81d6-c699e54989dd"
      },
      "execution_count": null,
      "outputs": [
        {
          "output_type": "execute_result",
          "data": {
            "text/plain": [
              "(5931, 14)"
            ]
          },
          "metadata": {},
          "execution_count": 13
        }
      ]
    },
    {
      "cell_type": "markdown",
      "source": [
        "# Time series models"
      ],
      "metadata": {
        "id": "NMV9uArGShaB"
      }
    },
    {
      "cell_type": "code",
      "source": [
        "from sklearn.metrics import *\n",
        "def get_metrics(g,p):\n",
        "  print('Kết quả đánh giá:')\n",
        "  print('MSE:',mean_squared_error(g,p))\n",
        "  print('RMSE:',np.sqrt(mean_squared_error(g,p)))\n",
        "  print('MAE:',mean_absolute_error(g,p))\n",
        "  print('MAPE:',mean_absolute_percentage_error(g,p))\n",
        "  print('R2:',r2_score(g,p))"
      ],
      "metadata": {
        "id": "YJ1uKIvzTyM7"
      },
      "execution_count": null,
      "outputs": []
    },
    {
      "cell_type": "markdown",
      "source": [
        "### 1. Linear Regresion"
      ],
      "metadata": {
        "id": "pMW8n4puSkFF"
      }
    },
    {
      "cell_type": "code",
      "source": [
        "from sklearn.linear_model import LinearRegression\n",
        "import matplotlib.pyplot as plt\n",
        "\n",
        "model_LR = LinearRegression()\n",
        "model_LR.fit(np.array(train.index).reshape(-1,1),\n",
        "             train['Product_weight'].values.reshape(-1,1))\n",
        "\n",
        "pred_val = model_LR.predict(np.array(val.index).reshape(-1,1))\n",
        "\n",
        "\n",
        "pred_test = model_LR.predict(np.array(test.index).reshape(-1,1))\n",
        "\n",
        "print('Validation set')\n",
        "get_metrics(val['Product_weight'],pred_val)\n",
        "\n",
        "print('\\nTest set')\n",
        "get_metrics(test['Product_weight'],pred_test)\n",
        "\n",
        "plt.plot(val['Product_weight'])\n",
        "plt.plot(np.array(val.index).reshape(-1,1),pred_val)"
      ],
      "metadata": {
        "colab": {
          "base_uri": "https://localhost:8080/",
          "height": 723
        },
        "id": "gXplC08uS_t1",
        "outputId": "1aa8238b-7c24-4ac1-dd1a-ebe249c60e99"
      },
      "execution_count": null,
      "outputs": [
        {
          "output_type": "stream",
          "name": "stdout",
          "text": [
            "Validation set\n",
            "Kết quả đánh giá:\n",
            "MSE: 43168648488.86696\n",
            "RMSE: 207770.66320553285\n",
            "MAE: 167279.94636486867\n",
            "MAPE: 3.662201761204905\n",
            "R2: -0.225326530927493\n",
            "\n",
            "Test set\n",
            "Kết quả đánh giá:\n",
            "MSE: 59518605035.51506\n",
            "RMSE: 243964.35197691293\n",
            "MAE: 208950.69794857042\n",
            "MAPE: 21.11931029986895\n",
            "R2: -0.5922389963489416\n"
          ]
        },
        {
          "output_type": "execute_result",
          "data": {
            "text/plain": [
              "[<matplotlib.lines.Line2D at 0x7f22e9cda7a0>]"
            ]
          },
          "metadata": {},
          "execution_count": 23
        },
        {
          "output_type": "display_data",
          "data": {
            "text/plain": [
              "<Figure size 640x480 with 1 Axes>"
            ],
            "image/png": "[encoded data removed]"
          },
          "metadata": {}
        }
      ]
    },
    {
      "cell_type": "code",
      "source": [
        "from sklearn.linear_model import LinearRegression\n",
        "\n",
        "model_LR = LinearRegression()\n",
        "model_LR.fit(X_train,y_train)\n",
        "\n",
        "pred_val = model_LR.predict(X_val)\n",
        "pred_test = model_LR.predict(X_test)\n",
        "\n",
        "print('Validation set')\n",
        "get_metrics(pred_val,y_val)\n",
        "\n",
        "print('\\nTest set')\n",
        "get_metrics(pred_test,y_test)"
      ],
      "metadata": {
        "colab": {
          "base_uri": "https://localhost:8080/"
        },
        "id": "y9y5AxcoTQi_",
        "outputId": "d6d72903-d4e1-4a19-e01f-41b107d4b7f1"
      },
      "execution_count": null,
      "outputs": [
        {
          "output_type": "stream",
          "name": "stdout",
          "text": [
            "Validation set\n",
            "Kết quả đánh giá:\n",
            "MSE: 31555936700.92991\n",
            "RMSE: 177639.90739957592\n",
            "MAE: 118715.55876977081\n",
            "MAPE: 0.6166207677672617\n",
            "R2: -3.910868053009166\n",
            "\n",
            "Test set\n",
            "Kết quả đánh giá:\n",
            "MSE: 31415435525.121346\n",
            "RMSE: 177243.99996931164\n",
            "MAE: 111086.37756392857\n",
            "MAPE: 0.6023956388445221\n",
            "R2: -2.653627843503798\n"
          ]
        }
      ]
    },
    {
      "cell_type": "code",
      "source": [
        "# i=5\n",
        "# plt.figure(figsize=(12,5))\n",
        "# plt.plot(range(i,i+lookback+horizon),X_val[i].tolist()+y_val[i].tolist())\n",
        "# plt.plot(range(i+lookback,i+lookback+horizon),y_val[i])\n",
        "\n",
        "# plt.plot(range(i,i+lookback+horizon),X_val[i].tolist()+pred_val[i].tolist())\n",
        "# plt.plot(range(i+lookback,i+lookback+horizon),pred_val[i])\n",
        "# plt.grid()\n",
        "# plt.show()"
      ],
      "metadata": {
        "id": "dh6BtJxGowu-"
      },
      "execution_count": null,
      "outputs": []
    },
    {
      "cell_type": "markdown",
      "source": [
        "### 2. Simple RNN"
      ],
      "metadata": {
        "id": "1TKfXBfYSmO0"
      }
    },
    {
      "cell_type": "code",
      "source": [
        "from keras.models import Sequential\n",
        "from keras.layers import Input, Reshape,Dense, SimpleRNN,LSTM,GRU\n",
        "from keras.optimizers import Adam\n",
        "from keras.losses import MeanSquaredError\n",
        "import math\n",
        "\n",
        "model_RNN = Sequential()\n",
        "model_RNN.add(Reshape((lookback, 1), input_shape=(lookback,))) # chuyen shape (14,) ve (14,1)\n",
        "model_RNN.add(SimpleRNN(32, activation='relu', return_sequences=True))\n",
        "model_RNN.add(SimpleRNN(64, activation='relu', return_sequences=False))\n",
        "model_RNN.add(Dense(horizon))\n",
        "\n",
        "loss = MeanSquaredError()\n",
        "optimizer = Adam(learning_rate=0.01)\n",
        "\n",
        "\n",
        "model_RNN.compile(optimizer=optimizer, loss=loss)\n",
        "model_RNN.summary()"
      ],
      "metadata": {
        "colab": {
          "base_uri": "https://localhost:8080/"
        },
        "id": "dNoTBZVDfm7I",
        "outputId": "94af0102-a395-4e83-e7f0-588b03d48d86"
      },
      "execution_count": null,
      "outputs": [
        {
          "output_type": "stream",
          "name": "stdout",
          "text": [
            "Model: \"sequential\"\n",
            "_________________________________________________________________\n",
            " Layer (type)                Output Shape              Param #   \n",
            "=================================================================\n",
            " reshape (Reshape)           (None, 14, 1)             0         \n",
            "                                                                 \n",
            " simple_rnn (SimpleRNN)      (None, 14, 32)            1088      \n",
            "                                                                 \n",
            " simple_rnn_1 (SimpleRNN)    (None, 64)                6208      \n",
            "                                                                 \n",
            " dense (Dense)               (None, 14)                910       \n",
            "                                                                 \n",
            "=================================================================\n",
            "Total params: 8,206\n",
            "Trainable params: 8,206\n",
            "Non-trainable params: 0\n",
            "_________________________________________________________________\n"
          ]
        }
      ]
    },
    {
      "cell_type": "code",
      "source": [
        "loss = MeanSquaredError()\n",
        "optimizer = Adam(learning_rate=0.01)\n",
        "\n",
        "learning_rate=0.01\n",
        "batch_size=32\n",
        "epochs=10"
      ],
      "metadata": {
        "id": "MXN1DWtsQ2zz"
      },
      "execution_count": null,
      "outputs": []
    },
    {
      "cell_type": "code",
      "source": [
        "from keras.callbacks import ModelCheckpoint\n",
        "\n",
        "save_best = ModelCheckpoint('best.hdf5', save_best_only=True, monitor='val_loss', mode='min')\n",
        "model_RNN.fit(X_train, y_train, validation_data = (X_val, y_val), batch_size=32,epochs=10, callbacks=[save_best])"
      ],
      "metadata": {
        "id": "aiegWEQ-f8DL",
        "colab": {
          "base_uri": "https://localhost:8080/"
        },
        "outputId": "e3b8d36f-95f4-41a9-c11a-5a33659efa00"
      },
      "execution_count": null,
      "outputs": [
        {
          "output_type": "stream",
          "name": "stdout",
          "text": [
            "Epoch 1/10\n",
            "186/186 [==============================] - 9s 26ms/step - loss: 281500909568.0000 - val_loss: 438664986624.0000\n",
            "Epoch 2/10\n",
            "186/186 [==============================] - 5s 28ms/step - loss: 255414812672.0000 - val_loss: 434557583360.0000\n",
            "Epoch 3/10\n",
            "186/186 [==============================] - 5s 27ms/step - loss: 270118141952.0000 - val_loss: 460290686976.0000\n",
            "Epoch 4/10\n",
            "186/186 [==============================] - 4s 24ms/step - loss: 259767058432.0000 - val_loss: 424065236992.0000\n",
            "Epoch 5/10\n",
            "186/186 [==============================] - 5s 28ms/step - loss: 253802774528.0000 - val_loss: 486187827200.0000\n",
            "Epoch 6/10\n",
            "186/186 [==============================] - 4s 23ms/step - loss: 254976098304.0000 - val_loss: 407411261440.0000\n",
            "Epoch 7/10\n",
            "186/186 [==============================] - 5s 27ms/step - loss: 240859103232.0000 - val_loss: 417827454976.0000\n",
            "Epoch 8/10\n",
            "186/186 [==============================] - 5s 24ms/step - loss: 244111458304.0000 - val_loss: 416799227904.0000\n",
            "Epoch 9/10\n",
            "186/186 [==============================] - 5s 24ms/step - loss: 232524152832.0000 - val_loss: 426426269696.0000\n",
            "Epoch 10/10\n",
            "186/186 [==============================] - 5s 25ms/step - loss: 252707291136.0000 - val_loss: 402482200576.0000\n"
          ]
        },
        {
          "output_type": "execute_result",
          "data": {
            "text/plain": [
              "<keras.callbacks.History at 0x7f6f099531f0>"
            ]
          },
          "metadata": {},
          "execution_count": 16
        }
      ]
    },
    {
      "cell_type": "code",
      "source": [
        "# load trang thai mo hinh tot nhat (val loss nho nhat)\n",
        "model_RNN.load_weights('best.hdf5')\n",
        "pred_val = model_RNN.predict(X_val)\n",
        "pred_test = model_RNN.predict(X_test)\n",
        "\n",
        "print('\\nValidation set')\n",
        "get_metrics(pred_val,y_val)\n",
        "\n",
        "print('\\nTest set')\n",
        "get_metrics(pred_test,y_test)"
      ],
      "metadata": {
        "colab": {
          "base_uri": "https://localhost:8080/"
        },
        "id": "U-RhPwPXU2Vc",
        "outputId": "9304dca9-a2ee-4fe5-f01a-d3adbe240c42"
      },
      "execution_count": null,
      "outputs": [
        {
          "output_type": "stream",
          "name": "stdout",
          "text": [
            "26/26 [==============================] - 0s 4ms/step\n",
            "53/53 [==============================] - 0s 4ms/step\n",
            "\n",
            "Validation set\n",
            "Kết quả đánh giá:\n",
            "MSE: 402482258964.2562\n",
            "RMSE: 634414.8949735151\n",
            "MAE: 435918.91284046165\n",
            "MAPE: 0.6212301254518847\n",
            "R2: 0.33151986597589556\n",
            "\n",
            "Test set\n",
            "Kết quả đánh giá:\n",
            "MSE: 412362750264.7233\n",
            "RMSE: 642154.77126992\n",
            "MAE: 418261.688294927\n",
            "MAPE: 0.6488219541088088\n",
            "R2: 0.26874309610047253\n"
          ]
        }
      ]
    },
    {
      "cell_type": "markdown",
      "source": [
        "### 3. LSTM"
      ],
      "metadata": {
        "id": "_XztJKLuSo55"
      }
    },
    {
      "cell_type": "code",
      "source": [
        "from keras.models import Sequential\n",
        "from keras.layers import Input, Reshape,Dense, SimpleRNN,LSTM,GRU\n",
        "from keras.optimizers import Adam\n",
        "from keras.losses import MeanSquaredError\n",
        "import math\n",
        "\n",
        "model_LSTM = Sequential()\n",
        "model_LSTM.add(Reshape((lookback, 1), input_shape=(lookback,))) # chuyen shape (14,) ve (14,1)\n",
        "model_LSTM.add(LSTM(32, activation='relu', return_sequences=True))\n",
        "model_LSTM.add(LSTM(64, activation='relu', return_sequences=False))\n",
        "model_LSTM.add(Dense(horizon))\n",
        "\n",
        "optimizer = Adam(learning_rate=0.01)\n",
        "loss = MeanSquaredError()\n",
        "\n",
        "model_LSTM.compile(optimizer=optimizer, loss=loss)\n",
        "model_LSTM.summary()"
      ],
      "metadata": {
        "colab": {
          "base_uri": "https://localhost:8080/"
        },
        "outputId": "9b11d541-13bd-4ec3-cedc-ef382e1f4f0b",
        "id": "C16iCU23eznP"
      },
      "execution_count": null,
      "outputs": [
        {
          "output_type": "stream",
          "name": "stderr",
          "text": [
            "WARNING:tensorflow:Layer lstm will not use cuDNN kernels since it doesn't meet the criteria. It will use a generic GPU kernel as fallback when running on GPU.\n",
            "WARNING:tensorflow:Layer lstm_1 will not use cuDNN kernels since it doesn't meet the criteria. It will use a generic GPU kernel as fallback when running on GPU.\n"
          ]
        },
        {
          "output_type": "stream",
          "name": "stdout",
          "text": [
            "Model: \"sequential_1\"\n",
            "_________________________________________________________________\n",
            " Layer (type)                Output Shape              Param #   \n",
            "=================================================================\n",
            " reshape_1 (Reshape)         (None, 14, 1)             0         \n",
            "                                                                 \n",
            " lstm (LSTM)                 (None, 14, 32)            4352      \n",
            "                                                                 \n",
            " lstm_1 (LSTM)               (None, 64)                24832     \n",
            "                                                                 \n",
            " dense_1 (Dense)             (None, 14)                910       \n",
            "                                                                 \n",
            "=================================================================\n",
            "Total params: 30,094\n",
            "Trainable params: 30,094\n",
            "Non-trainable params: 0\n",
            "_________________________________________________________________\n"
          ]
        }
      ]
    },
    {
      "cell_type": "code",
      "source": [
        "from keras.callbacks import ModelCheckpoint\n",
        "\n",
        "save_best = ModelCheckpoint('best.hdf5', save_best_only=True, monitor='val_loss', mode='min')\n",
        "model_LSTM.fit(X_train, y_train, validation_data = (X_val, y_val), batch_size=32,epochs=10, callbacks=[save_best])"
      ],
      "metadata": {
        "colab": {
          "base_uri": "https://localhost:8080/"
        },
        "outputId": "b32597d1-4b01-4cc4-c682-8ed2229e0f83",
        "id": "QUOCkN2ceznQ"
      },
      "execution_count": null,
      "outputs": [
        {
          "output_type": "stream",
          "name": "stdout",
          "text": [
            "Epoch 1/10\n",
            "186/186 [==============================] - 12s 54ms/step - loss: 405960720384.0000 - val_loss: 463305179136.0000\n",
            "Epoch 2/10\n",
            "186/186 [==============================] - 10s 53ms/step - loss: 283792637952.0000 - val_loss: 547568943104.0000\n",
            "Epoch 3/10\n",
            "186/186 [==============================] - 9s 51ms/step - loss: 377126748160.0000 - val_loss: 514502164480.0000\n",
            "Epoch 4/10\n",
            "186/186 [==============================] - 9s 50ms/step - loss: 303019261952.0000 - val_loss: 489500999680.0000\n",
            "Epoch 5/10\n",
            "186/186 [==============================] - 9s 49ms/step - loss: 281611796480.0000 - val_loss: 476092760064.0000\n",
            "Epoch 6/10\n",
            "186/186 [==============================] - 9s 51ms/step - loss: 275556237312.0000 - val_loss: 465272766464.0000\n",
            "Epoch 7/10\n",
            "186/186 [==============================] - 10s 52ms/step - loss: 266534551552.0000 - val_loss: 449484947456.0000\n",
            "Epoch 8/10\n",
            "186/186 [==============================] - 9s 50ms/step - loss: 262801522688.0000 - val_loss: 436123926528.0000\n",
            "Epoch 9/10\n",
            "186/186 [==============================] - 9s 50ms/step - loss: 292465868800.0000 - val_loss: 512151912448.0000\n",
            "Epoch 10/10\n",
            "186/186 [==============================] - 9s 47ms/step - loss: 300815089664.0000 - val_loss: 475223883776.0000\n"
          ]
        },
        {
          "output_type": "execute_result",
          "data": {
            "text/plain": [
              "<keras.callbacks.History at 0x7f6f007f3b80>"
            ]
          },
          "metadata": {},
          "execution_count": 19
        }
      ]
    },
    {
      "cell_type": "code",
      "source": [
        "# load trang thai mo hinh tot nhat (val loss nho nhat)\n",
        "model_LSTM.load_weights('best.hdf5')\n",
        "pred_val = model_LSTM.predict(X_val)\n",
        "pred_test = model_LSTM.predict(X_test)\n",
        "\n",
        "print('\\nValidation set')\n",
        "get_metrics(pred_val,y_val)\n",
        "\n",
        "print('\\nTest set')\n",
        "get_metrics(pred_test,y_test)"
      ],
      "metadata": {
        "colab": {
          "base_uri": "https://localhost:8080/"
        },
        "outputId": "47e022c9-b090-48ed-c899-5f7989a6f0da",
        "id": "JAvLd3rReznQ"
      },
      "execution_count": null,
      "outputs": [
        {
          "output_type": "stream",
          "name": "stdout",
          "text": [
            "26/26 [==============================] - 0s 5ms/step\n",
            "53/53 [==============================] - 0s 5ms/step\n",
            "\n",
            "Validation set\n",
            "Kết quả đánh giá:\n",
            "MSE: 436123928331.96454\n",
            "RMSE: 660396.7961248484\n",
            "MAE: 441995.5270714907\n",
            "MAPE: 0.6742033278550806\n",
            "R2: 0.20693447011761418\n",
            "\n",
            "Test set\n",
            "Kết quả đánh giá:\n",
            "MSE: 452171629218.903\n",
            "RMSE: 672437.0819778629\n",
            "MAE: 433213.84964963136\n",
            "MAPE: 0.7261795828479717\n",
            "R2: 0.031258267164030275\n"
          ]
        }
      ]
    },
    {
      "cell_type": "markdown",
      "source": [
        "### 4. GRU"
      ],
      "metadata": {
        "id": "HcT7cD_USqih"
      }
    },
    {
      "cell_type": "code",
      "source": [
        "from keras.models import Sequential\n",
        "from keras.layers import Input, Reshape,Dense, SimpleRNN,LSTM,GRU\n",
        "from keras.optimizers import Adam\n",
        "from keras.losses import MeanSquaredError\n",
        "import math\n",
        "\n",
        "model_GRU = Sequential()\n",
        "model_GRU.add(Reshape((lookback, 1), input_shape=(lookback,))) # chuyen shape (14,) ve (14,1)\n",
        "model_GRU.add(GRU(32, activation='relu', return_sequences=True))\n",
        "model_GRU.add(GRU(64, activation='relu', return_sequences=True))\n",
        "model_GRU.add(GRU(32, activation='relu', return_sequences=False))\n",
        "model_GRU.add(Dense(horizon))\n",
        "\n",
        "optimizer = Adam(learning_rate=0.01)\n",
        "loss = MeanSquaredError()\n",
        "\n",
        "model_GRU.compile(optimizer=optimizer, loss=loss)\n",
        "model_GRU.summary()"
      ],
      "metadata": {
        "colab": {
          "base_uri": "https://localhost:8080/"
        },
        "outputId": "756b9f1c-9c05-498c-aa11-f1033e0dae2e",
        "id": "G8JILW1Bf772"
      },
      "execution_count": null,
      "outputs": [
        {
          "output_type": "stream",
          "name": "stderr",
          "text": [
            "WARNING:tensorflow:Layer gru will not use cuDNN kernels since it doesn't meet the criteria. It will use a generic GPU kernel as fallback when running on GPU.\n",
            "WARNING:tensorflow:Layer gru_1 will not use cuDNN kernels since it doesn't meet the criteria. It will use a generic GPU kernel as fallback when running on GPU.\n",
            "WARNING:tensorflow:Layer gru_2 will not use cuDNN kernels since it doesn't meet the criteria. It will use a generic GPU kernel as fallback when running on GPU.\n"
          ]
        },
        {
          "output_type": "stream",
          "name": "stdout",
          "text": [
            "Model: \"sequential_2\"\n",
            "_________________________________________________________________\n",
            " Layer (type)                Output Shape              Param #   \n",
            "=================================================================\n",
            " reshape_2 (Reshape)         (None, 14, 1)             0         \n",
            "                                                                 \n",
            " gru (GRU)                   (None, 14, 32)            3360      \n",
            "                                                                 \n",
            " gru_1 (GRU)                 (None, 14, 64)            18816     \n",
            "                                                                 \n",
            " gru_2 (GRU)                 (None, 32)                9408      \n",
            "                                                                 \n",
            " dense_2 (Dense)             (None, 14)                462       \n",
            "                                                                 \n",
            "=================================================================\n",
            "Total params: 32,046\n",
            "Trainable params: 32,046\n",
            "Non-trainable params: 0\n",
            "_________________________________________________________________\n"
          ]
        }
      ]
    },
    {
      "cell_type": "code",
      "source": [
        "from keras.callbacks import ModelCheckpoint\n",
        "\n",
        "save_best = ModelCheckpoint('best.hdf5', save_best_only=True, monitor='val_loss', mode='min')\n",
        "model_GRU.fit(X_train, y_train, validation_data = (X_val, y_val), batch_size=32,epochs=10, callbacks=[save_best])"
      ],
      "metadata": {
        "colab": {
          "base_uri": "https://localhost:8080/"
        },
        "outputId": "6ce9d633-0893-43ff-d2f2-be470e704cae",
        "id": "tdhmXEqbf773"
      },
      "execution_count": null,
      "outputs": [
        {
          "output_type": "stream",
          "name": "stdout",
          "text": [
            "Epoch 1/10\n",
            "186/186 [==============================] - 21s 93ms/step - loss: 309160214528.0000 - val_loss: 427291738112.0000\n",
            "Epoch 2/10\n",
            "186/186 [==============================] - 18s 94ms/step - loss: 259151888384.0000 - val_loss: 431431942144.0000\n",
            "Epoch 3/10\n",
            "186/186 [==============================] - 17s 91ms/step - loss: 278794960896.0000 - val_loss: 592318889984.0000\n",
            "Epoch 4/10\n",
            "186/186 [==============================] - 18s 96ms/step - loss: 261765939200.0000 - val_loss: 464138600448.0000\n",
            "Epoch 5/10\n",
            "186/186 [==============================] - 17s 89ms/step - loss: 263945535488.0000 - val_loss: 444607922176.0000\n",
            "Epoch 6/10\n",
            "186/186 [==============================] - 18s 95ms/step - loss: 255427100672.0000 - val_loss: 449171914752.0000\n",
            "Epoch 7/10\n",
            "186/186 [==============================] - 17s 89ms/step - loss: 253646471168.0000 - val_loss: 410573504512.0000\n",
            "Epoch 8/10\n",
            "186/186 [==============================] - 18s 98ms/step - loss: 271026733056.0000 - val_loss: 424802353152.0000\n",
            "Epoch 9/10\n",
            "186/186 [==============================] - 17s 91ms/step - loss: 256008896512.0000 - val_loss: 419185590272.0000\n",
            "Epoch 10/10\n",
            "186/186 [==============================] - 18s 96ms/step - loss: 252505473024.0000 - val_loss: 416103858176.0000\n"
          ]
        },
        {
          "output_type": "execute_result",
          "data": {
            "text/plain": [
              "<keras.callbacks.History at 0x7f6ed40e8d00>"
            ]
          },
          "metadata": {},
          "execution_count": 22
        }
      ]
    },
    {
      "cell_type": "code",
      "source": [
        "# load trang thai mo hinh tot nhat (val loss nho nhat)\n",
        "model_GRU.load_weights('best.hdf5')\n",
        "pred_val = model_GRU.predict(X_val)\n",
        "pred_test = model_GRU.predict(X_test)\n",
        "\n",
        "print('\\nValidation set')\n",
        "get_metrics(pred_val,y_val)\n",
        "\n",
        "print('\\nTest set')\n",
        "get_metrics(pred_test,y_test)"
      ],
      "metadata": {
        "id": "TBi1ZoETf773",
        "colab": {
          "base_uri": "https://localhost:8080/"
        },
        "outputId": "57c40183-761f-4e98-9888-60cc36de9cfc"
      },
      "execution_count": null,
      "outputs": [
        {
          "output_type": "stream",
          "name": "stdout",
          "text": [
            "26/26 [==============================] - 1s 13ms/step\n",
            "53/53 [==============================] - 1s 10ms/step\n",
            "\n",
            "Validation set\n",
            "Kết quả đánh giá:\n",
            "MSE: 410573496381.70013\n",
            "RMSE: 640760.0926881294\n",
            "MAE: 438945.91018119024\n",
            "MAPE: 0.6490313578063914\n",
            "R2: 0.4067466948653057\n",
            "\n",
            "Test set\n",
            "Kết quả đánh giá:\n",
            "MSE: 423455345402.71484\n",
            "RMSE: 650734.4661247896\n",
            "MAE: 423623.08346129773\n",
            "MAPE: 0.6696439487468895\n",
            "R2: 0.29203645040658094\n"
          ]
        }
      ]
    },
    {
      "cell_type": "code",
      "source": [
        "Validation set\n",
        "Kết quả đánh giá:\n",
        "MSE: 411263726762.56\n",
        "RMSE: 641298.4693280968\n",
        "MAE: 443903.58958047855\n",
        "MAPE: 0.6301624661468637\n",
        "R2: 0.34866759519496754\n",
        "\n",
        "Test set\n",
        "Kết quả đánh giá:\n",
        "MSE: 434171094594.42316\n",
        "RMSE: 658916.6067071182\n",
        "MAE: 435086.27767173946\n",
        "MAPE: 0.6564203565589415\n",
        "R2: 0.21487095588722574"
      ],
      "metadata": {
        "id": "jSXX8eQTsa09",
        "colab": {
          "base_uri": "https://localhost:8080/",
          "height": 134
        },
        "outputId": "9efacd8a-1391-431e-9870-f398e928b9f4"
      },
      "execution_count": null,
      "outputs": [
        {
          "output_type": "error",
          "ename": "SyntaxError",
          "evalue": "ignored",
          "traceback": [
            "\u001b[0;36m  File \u001b[0;32m\"<ipython-input-24-3b5e9c59832f>\"\u001b[0;36m, line \u001b[0;32m1\u001b[0m\n\u001b[0;31m    Validation set\u001b[0m\n\u001b[0m               ^\u001b[0m\n\u001b[0;31mSyntaxError\u001b[0m\u001b[0;31m:\u001b[0m invalid syntax\n"
          ]
        }
      ]
    },
    {
      "cell_type": "markdown",
      "source": [
        "### 5. Seq2Seq"
      ],
      "metadata": {
        "id": "NpV4MHO0Sr88"
      }
    },
    {
      "cell_type": "code",
      "source": [
        "%%capture\n",
        "!pip install --pre --upgrade bigdl-chronos[pytorch]\n",
        "!pip uninstall -y torchtext # uninstall torchtext to avoid version conflict\n",
        "!pip install ipython-autotime\n",
        "\n",
        "%load_ext autotime\n",
        "exit() # restart the runtime to refresh installed pkg"
      ],
      "metadata": {
        "id": "XJNB3DWskk1k"
      },
      "execution_count": null,
      "outputs": []
    },
    {
      "cell_type": "code",
      "source": [
        "from bigdl.chronos.data import TSDataset\n",
        "from sklearn.preprocessing import MinMaxScaler, StandardScaler\n",
        "from bigdl.chronos.forecaster.seq2seq_forecaster import Seq2SeqForecaster\n",
        "#from bigdl.chronos.forecaster.tcn_forecaster import TCNForecaster\n",
        "#from bigdl.chronos.forecaster.lstm_forecaster import LSTMForecaster\n",
        "#from bigdl.orca.automl.metrics import Evaluator\n",
        "import json \n",
        "from json import loads\n",
        "import time\n",
        "import logging\n",
        "logging.getLogger(\"pytorch_lightning\").setLevel(logging.WARNING)"
      ],
      "metadata": {
        "id": "7960dl43lSQY"
      },
      "execution_count": null,
      "outputs": []
    },
    {
      "cell_type": "code",
      "source": [
        "from sklearn.preprocessing import MinMaxScaler, StandardScaler\n",
        "import matplotlib.pyplot as plt\n",
        "import random\n",
        "import pandas as pd\n",
        "import numpy as np\n",
        "import datetime\n",
        "import time"
      ],
      "metadata": {
        "id": "jZr_eC2kl_pp"
      },
      "execution_count": null,
      "outputs": []
    },
    {
      "cell_type": "code",
      "source": [
        "df = pd.read_csv('/content/species1.csv',parse_dates=['Last_catch_date'])\n",
        "df1 = pd.DataFrame()\n",
        "df1['Date'] = pd.date_range(start = '2000-01-01', end = '2023-04-21' )\n",
        "df1['Product_weight'] = df1['Date'].apply(lambda x: df.loc[df['Last_catch_date']==x,'Product_weight'].values[0]\n",
        "                                          if df.loc[df['Last_catch_date']==x,'Product_weight'].shape[0] == 1 else None)\n",
        "# xử lý missing\n",
        "df1['Product_weight'] = df1['Product_weight'].interpolate(method='linear')\n",
        "df1.info()"
      ],
      "metadata": {
        "id": "zHJfc00wmYv5"
      },
      "execution_count": null,
      "outputs": []
    },
    {
      "cell_type": "code",
      "source": [
        "from sklearn.model_selection import train_test_split\n",
        "\n",
        "def split_train_val_test(df, train_size = 0.7, val_size = 0.1, test_size = 0.2):\n",
        "  train,test = train_test_split(df,train_size=train_size,shuffle=False)\n",
        "  val,test = train_test_split(test,train_size= val_size/(1-train_size),shuffle=False)\n",
        "  return train,val, test\n",
        "\n",
        "def roll_back(df, lb = 14, hz = 14):\n",
        "  X,y = np.empty([0,lb]), np.empty([0,hz])\n",
        "  aset = df['Product_weight'].values\n",
        "  for i in range(len(aset)-lb-hz+1):\n",
        "    a = aset[i:i+lb].reshape(1,-1)\n",
        "    b = aset[i+lb:i+lb+hz].reshape(1,-1)\n",
        "    X = np.append(X,a,axis=0)\n",
        "    y = np.append(y,b,axis=0)\n",
        "  return X,y\n",
        "\n",
        "lookback = 14\n",
        "horizon = 14\n",
        "train,val,test = split_train_val_test(df1, train_size = 0.7, val_size = 0.1, test_size = 0.2)\n",
        "X_train,y_train = roll_back(train, lb = lookback, hz = horizon)\n",
        "X_val,y_val = roll_back(val, lb = lookback, hz = horizon)\n",
        "X_test,y_test = roll_back(test, lb = lookback, hz = horizon)"
      ],
      "metadata": {
        "id": "4gqoobuYmZiO"
      },
      "execution_count": null,
      "outputs": []
    },
    {
      "cell_type": "code",
      "source": [
        "X_train = np.expand_dims(X_train,axis=-1)\n",
        "X_val = np.expand_dims(X_val,axis=-1)\n",
        "X_test = np.expand_dims(X_test,axis=-1)\n",
        "\n",
        "y_train = np.expand_dims(y_train,axis=-1)\n",
        "y_val = np.expand_dims(y_val,axis=-1)\n",
        "y_test = np.expand_dims(y_test,axis=-1)"
      ],
      "metadata": {
        "id": "vYzj_cOsm0ft"
      },
      "execution_count": null,
      "outputs": []
    },
    {
      "cell_type": "code",
      "source": [
        "import random\n",
        "import torch\n",
        "def set_seed(seed_value=42):\n",
        "    \"\"\"Set seed for reproducibility.\n",
        "    \"\"\"\n",
        "    random.seed(seed_value)\n",
        "    np.random.seed(seed_value)\n",
        "    torch.manual_seed(seed_value)\n",
        "    torch.cuda.manual_seed_all(seed_value)"
      ],
      "metadata": {
        "id": "jOkFpzk7m9Bp"
      },
      "execution_count": null,
      "outputs": []
    },
    {
      "cell_type": "code",
      "source": [
        "set_seed()\n",
        "feature_dim = X_train.shape[-1] # 1, số feature đầu vào (chỉ product weight của 14 ngày trước)\n",
        "target_dim = 1 # số feature đầu ra, (chỉ product weight 14 ngày tiếp theo)\n",
        "learning_rate = 0.01\n",
        "drop = 0.1\n",
        "\n",
        "seq2seqforecaster = Seq2SeqForecaster(past_seq_len=lookback,\n",
        "                              future_seq_len = horizon,\n",
        "                              input_feature_num=feature_dim,\n",
        "                              output_feature_num=target_dim,\n",
        "                              lstm_hidden_dim=64,\n",
        "                              lstm_layer_num=2,\n",
        "                              lr=learning_rate,\n",
        "                              loss='mse',\n",
        "                              seed=42,\n",
        "                              metrics = 'rmse',\n",
        "                              dropout=drop,\n",
        "                              optimizer='Adam',\n",
        "                              )"
      ],
      "metadata": {
        "id": "FeSRSKqQnAkv"
      },
      "execution_count": null,
      "outputs": []
    },
    {
      "cell_type": "code",
      "source": [
        "set_seed()\n",
        "batch_size = 32\n",
        "epochs = 10\n",
        "seq2seqforecaster.fit(data=(X_train.astype('float32'), y_train.astype('float32')), \n",
        "                  validation_data =(X_val.astype('float32'),y_val.astype('float32')),\n",
        "                  batch_size = batch_size, \n",
        "                  epochs = epochs)"
      ],
      "metadata": {
        "id": "5u103fidnLca"
      },
      "execution_count": null,
      "outputs": []
    },
    {
      "cell_type": "code",
      "source": [
        "pred_val = seq2seqforecaster.predict(X_val.astype('float32'))\n",
        "pred_test = seq2seqforecaster.predict(X_test.astype('float32'))\n",
        "\n",
        "print('\\nValidation set')\n",
        "get_metrics(pred_val[:,:,0],y_val[:,:,0])\n",
        "\n",
        "print('\\nTest set')\n",
        "get_metrics(pred_test[:,:,0],y_test[:,:,0])"
      ],
      "metadata": {
        "id": "mQ5AcBRNnyrc"
      },
      "execution_count": null,
      "outputs": []
    },
    {
      "cell_type": "code",
      "source": [
        "for i in range(1):\n",
        "  plt.figure(figsize=(16,5))\n",
        "  plt.plot(y_val[-90:,i])\n",
        "  plt.plot(pred_val[-90:,i])\n",
        "  plt.grid()\n",
        "  plt.legend(['ground truth','predicted'])\n",
        "  plt.show()"
      ],
      "metadata": {
        "id": "rNOL7Q7In2MQ"
      },
      "execution_count": null,
      "outputs": []
    },
    {
      "cell_type": "markdown",
      "source": [
        "### 6. KNN"
      ],
      "metadata": {
        "id": "nlIUqZJySu4W"
      }
    },
    {
      "cell_type": "code",
      "source": [
        "import matplotlib.pyplot as plt\n",
        "plt.figure(figsize=(18,9))\n",
        "df1.set_index('Date')['Product_weight'].plot()"
      ],
      "metadata": {
        "colab": {
          "base_uri": "https://localhost:8080/",
          "height": 806
        },
        "id": "gWIMaN7llAC9",
        "outputId": "4df3c373-ca50-4fe9-d6a1-18e9695a29fc"
      },
      "execution_count": null,
      "outputs": [
        {
          "output_type": "execute_result",
          "data": {
            "text/plain": [
              "<Axes: xlabel='Date'>"
            ]
          },
          "metadata": {},
          "execution_count": 33
        },
        {
          "output_type": "display_data",
          "data": {
            "text/plain": [
              "<Figure size 1800x900 with 1 Axes>"
            ],
            "image/png": "[encoded data removed]"
          },
          "metadata": {}
        }
      ]
    },
    {
      "cell_type": "markdown",
      "source": [
        "### 7. TCN"
      ],
      "metadata": {
        "id": "7TTjWOb0S4R5"
      }
    },
    {
      "cell_type": "code",
      "source": [
        "%%capture\n",
        "!pip install --pre --upgrade bigdl-chronos[pytorch]\n",
        "!pip uninstall -y torchtext # uninstall torchtext to avoid version conflict\n",
        "!pip install ipython-autotime\n",
        "\n",
        "%load_ext autotime\n",
        "exit() # restart the runtime to refresh installed pkg"
      ],
      "metadata": {
        "id": "8IB22RRECAhB"
      },
      "execution_count": null,
      "outputs": []
    },
    {
      "cell_type": "code",
      "source": [
        "from bigdl.chronos.data import TSDataset\n",
        "from sklearn.preprocessing import MinMaxScaler, StandardScaler\n",
        "from bigdl.chronos.forecaster.seq2seq_forecaster import Seq2SeqForecaster\n",
        "from bigdl.chronos.forecaster.tcn_forecaster import TCNForecaster\n",
        "from bigdl.chronos.forecaster.lstm_forecaster import LSTMForecaster\n",
        "#from bigdl.orca.automl.metrics import Evaluator\n",
        "import matplotlib.pyplot as plt\n",
        "import random\n",
        "import pandas as pd\n",
        "import numpy as np\n",
        "import datetime\n",
        "import json \n",
        "from json import loads\n",
        "import time\n",
        "import logging\n",
        "\n",
        "logging.getLogger(\"pytorch_lightning\").setLevel(logging.WARNING)"
      ],
      "metadata": {
        "id": "tXrvEEEmCGPn"
      },
      "execution_count": null,
      "outputs": []
    },
    {
      "cell_type": "code",
      "source": [
        "df = pd.read_csv('/content/species1.csv',parse_dates=['Last_catch_date'])\n",
        "df1 = pd.DataFrame()\n",
        "df1['Date'] = pd.date_range(start = '2000-01-01', end = '2023-04-21' )\n",
        "df1['Product_weight'] = df1['Date'].apply(lambda x: df.loc[df['Last_catch_date']==x,'Product_weight'].values[0]\n",
        "                                          if df.loc[df['Last_catch_date']==x,'Product_weight'].shape[0] == 1 else None)\n",
        "# xử lý missing\n",
        "df1['Product_weight'] = df1['Product_weight'].interpolate(method='linear')\n",
        "df1.info()"
      ],
      "metadata": {
        "id": "bJMfcZxlCLtT"
      },
      "execution_count": null,
      "outputs": []
    },
    {
      "cell_type": "code",
      "source": [
        "from sklearn.model_selection import train_test_split\n",
        "\n",
        "def split_train_val_test(df, train_size = 0.7, val_size = 0.1, test_size = 0.2):\n",
        "  train,test = train_test_split(df,train_size=train_size,shuffle=False)\n",
        "  val,test = train_test_split(test,train_size= val_size/(1-train_size),shuffle=False)\n",
        "  return train,val, test\n",
        "\n",
        "def roll_back(df, lb = 14, hz = 14):\n",
        "  X,y = np.empty([0,lb]), np.empty([0,hz])\n",
        "  aset = df['Product_weight'].values\n",
        "  for i in range(len(aset)-lb-hz+1):\n",
        "    a = aset[i:i+lb].reshape(1,-1)\n",
        "    b = aset[i+lb:i+lb+hz].reshape(1,-1)\n",
        "    X = np.append(X,a,axis=0)\n",
        "    y = np.append(y,b,axis=0)\n",
        "  return X,y\n",
        "\n",
        "lookback = 14\n",
        "horizon = 14\n",
        "train,val,test = split_train_val_test(df1, train_size = 0.7, val_size = 0.1, test_size = 0.2)\n",
        "X_train,y_train = roll_back(train, lb = lookback, hz = horizon)\n",
        "X_val,y_val = roll_back(val, lb = lookback, hz = horizon)\n",
        "X_test,y_test = roll_back(test, lb = lookback, hz = horizon)\n",
        "\n",
        "X_train = np.expand_dims(X_train,axis=-1)\n",
        "X_val = np.expand_dims(X_val,axis=-1)\n",
        "X_test = np.expand_dims(X_test,axis=-1)\n",
        "\n",
        "y_train = np.expand_dims(y_train,axis=-1)\n",
        "y_val = np.expand_dims(y_val,axis=-1)\n",
        "y_test = np.expand_dims(y_test,axis=-1)"
      ],
      "metadata": {
        "id": "zBDohJznCeBK"
      },
      "execution_count": null,
      "outputs": []
    },
    {
      "cell_type": "code",
      "source": [
        "import random\n",
        "import torch\n",
        "def set_seed(seed_value=42):\n",
        "    \"\"\"Set seed for reproducibility.\n",
        "    \"\"\"\n",
        "    random.seed(seed_value)\n",
        "    np.random.seed(seed_value)\n",
        "    torch.manual_seed(seed_value)\n",
        "    torch.cuda.manual_seed_all(seed_value)"
      ],
      "metadata": {
        "id": "HzYpdaDzCPBf"
      },
      "execution_count": null,
      "outputs": []
    },
    {
      "cell_type": "code",
      "source": [
        "set_seed()\n",
        "\n",
        "\n",
        "feature_dim = X_train.shape[-1] # 1, số feature đầu vào (chỉ product weight của 14 ngày trước)\n",
        "target_dim =  y_train.shape[-1] # số feature đầu ra, (chỉ product weight 7 ngày tiếp theo)\n",
        "learning_rate = 0.001\n",
        "drop = 0.1\n",
        "\n",
        "tcnforecaster = TCNForecaster(past_seq_len=lookback,\n",
        "                              future_seq_len = horizon,\n",
        "                              input_feature_num=feature_dim,\n",
        "                              output_feature_num=target_dim,\n",
        "                              lr=learning_rate,\n",
        "                              loss='mse',\n",
        "                              seed=42,\n",
        "                              metrics = 'rmse',\n",
        "                              kernel_size=3,\n",
        "                              dropout=drop,\n",
        "                              num_channels = [64]*3,\n",
        "                              optimizer='Adam',\n",
        "                              )"
      ],
      "metadata": {
        "id": "1mUjoP7qCSRM"
      },
      "execution_count": null,
      "outputs": []
    },
    {
      "cell_type": "code",
      "source": [
        "set_seed()\n",
        "batch_size = 32\n",
        "epochs = 10\n",
        "tcnforecaster.fit(data=(X_train.astype('float32'),y_train.astype('float32')), \n",
        "                  validation_data = (X_val.astype('float32'),y_val.astype('float32')),\n",
        "                  batch_size = batch_size, \n",
        "                  epochs = epochs)\n"
      ],
      "metadata": {
        "id": "d_Af7VA9GOoN"
      },
      "execution_count": null,
      "outputs": []
    },
    {
      "cell_type": "code",
      "source": [
        "pred_val = tcnforecaster.predict(X_val.astype('float32'))\n",
        "pred_test = tcnforecaster.predict(X_test.astype('float32'))\n",
        "\n",
        "print('\\nValidation set')\n",
        "get_metrics(pred_val[:,:,0],y_val[:,:,0])\n",
        "\n",
        "print('\\nTest set')\n",
        "get_metrics(pred_test[:,:,0],y_test[:,:,0])"
      ],
      "metadata": {
        "id": "xBgtsHMKH4VY"
      },
      "execution_count": null,
      "outputs": []
    },
    {
      "cell_type": "code",
      "source": [
        "plt.figure(figsize=(16,9))\n",
        "test.set_index('Date').Product_weight.plot()\n",
        "test"
      ],
      "metadata": {
        "id": "oF9daYWqHVhs"
      },
      "execution_count": null,
      "outputs": []
    },
    {
      "cell_type": "markdown",
      "source": [
        "### 8. ARIMA"
      ],
      "metadata": {
        "id": "aNe5I0hYS5tb"
      }
    },
    {
      "cell_type": "markdown",
      "source": [
        "### 9. ETS"
      ],
      "metadata": {
        "id": "qzvRl7nUS_nz"
      }
    },
    {
      "cell_type": "markdown",
      "source": [
        "### 10. Random Forest"
      ],
      "metadata": {
        "id": "YO6VumnWTCe3"
      }
    },
    {
      "cell_type": "code",
      "source": [
        "from sklearn.ensemble import RandomForestRegressor\n",
        "model_RF = RandomForestRegressor(n_estimators = 100, random_state=42)\n",
        "model_RF.fit(X_train,y_train)"
      ],
      "metadata": {
        "id": "pEKl-0mXSg-H"
      },
      "execution_count": null,
      "outputs": []
    },
    {
      "cell_type": "code",
      "source": [
        "pred_val = model_RF.predict(X_val)\n",
        "pred_test = model_RF.predict(X_test)\n",
        "\n",
        "print('Validation set')\n",
        "get_metrics(pred_val,y_val)\n",
        "\n",
        "print('\\nTest set')\n",
        "get_metrics(pred_test,y_test)"
      ],
      "metadata": {
        "id": "gMChOvQMck6O"
      },
      "execution_count": null,
      "outputs": []
    }
  ]
}